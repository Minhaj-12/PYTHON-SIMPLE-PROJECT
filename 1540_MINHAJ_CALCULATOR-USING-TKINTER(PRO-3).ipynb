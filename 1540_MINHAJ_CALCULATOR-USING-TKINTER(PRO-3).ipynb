{
 "cells": [
  {
   "cell_type": "code",
   "execution_count": null,
   "id": "f1cee5be",
   "metadata": {},
   "outputs": [],
   "source": [
    "import tkinter as tk\n",
    "from tkinter import ttk\n",
    "\n",
    "# Create the main calculator function\n",
    "def run_calculator():\n",
    "    def press(key):\n",
    "        \"\"\"\n",
    "        Handle button presses and update the entry field.\n",
    "        \"\"\"\n",
    "        if key == \"=\":\n",
    "            try:\n",
    "                result = eval(entry.get())\n",
    "                entry.delete(0, tk.END)\n",
    "                entry.insert(tk.END, str(result))\n",
    "            except Exception:\n",
    "                entry.delete(0, tk.END)\n",
    "                entry.insert(tk.END, \"Error\")\n",
    "        elif key == \"C\":\n",
    "            entry.delete(0, tk.END)\n",
    "        else:\n",
    "            entry.insert(tk.END, key)\n",
    "\n",
    "    # Create the main window\n",
    "    root = tk.Tk()\n",
    "    root.title(\"Calculator\")\n",
    "    root.geometry(\"300x400\")\n",
    "\n",
    "    # Entry widget for the display\n",
    "    entry = tk.Entry(root, font=(\"Arial\", 20), borderwidth=5, justify=\"right\")\n",
    "    entry.grid(row=0, column=0, columnspan=4, ipadx=8, ipady=8, sticky=\"nsew\")\n",
    "\n",
    "    # Define button layout\n",
    "    buttons = [\n",
    "        \"7\", \"8\", \"9\", \"/\",\n",
    "        \"4\", \"5\", \"6\", \"*\",\n",
    "        \"1\", \"2\", \"3\", \"-\",\n",
    "        \"C\", \"0\", \"=\", \"+\"\n",
    "    ]\n",
    "\n",
    "    # Create buttons dynamically\n",
    "    for i, btn in enumerate(buttons):\n",
    "        action = lambda x=btn: press(x)\n",
    "        button = tk.Button(root, text=btn, font=(\"Arial\", 20), command=action, borderwidth=2)\n",
    "        button.grid(row=(i // 4) + 1, column=i % 4, ipadx=10, ipady=10, sticky=\"nsew\")\n",
    "\n",
    "    # Adjust row and column weights for responsiveness\n",
    "    for i in range(5):  # 4 rows of buttons + 1 entry row\n",
    "        root.grid_rowconfigure(i, weight=1)\n",
    "    for j in range(4):  # 4 columns\n",
    "        root.grid_columnconfigure(j, weight=1)\n",
    "\n",
    "    # Start the Tkinter event loop\n",
    "    root.mainloop()\n",
    "\n",
    "# Run the calculator\n",
    "run_calculator()\n"
   ]
  },
  {
   "cell_type": "code",
   "execution_count": null,
   "id": "b00a4f55",
   "metadata": {},
   "outputs": [],
   "source": []
  }
 ],
 "metadata": {
  "kernelspec": {
   "display_name": "Python 3 (ipykernel)",
   "language": "python",
   "name": "python3"
  },
  "language_info": {
   "codemirror_mode": {
    "name": "ipython",
    "version": 3
   },
   "file_extension": ".py",
   "mimetype": "text/x-python",
   "name": "python",
   "nbconvert_exporter": "python",
   "pygments_lexer": "ipython3",
   "version": "3.11.5"
  }
 },
 "nbformat": 4,
 "nbformat_minor": 5
}
