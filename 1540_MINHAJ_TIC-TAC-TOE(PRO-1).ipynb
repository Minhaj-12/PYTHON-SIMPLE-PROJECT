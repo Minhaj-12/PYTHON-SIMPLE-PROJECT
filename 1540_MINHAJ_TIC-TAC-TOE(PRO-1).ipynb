{
 "cells": [
  {
   "cell_type": "markdown",
   "id": "d9dff033",
   "metadata": {},
   "source": [
    "# Tic-Tac-Toe"
   ]
  },
  {
   "cell_type": "code",
   "execution_count": null,
   "id": "070f132a",
   "metadata": {},
   "outputs": [
    {
     "name": "stdout",
     "output_type": "stream",
     "text": [
      "Welcome to Tic Tac Toe!\n",
      "Choose mode: 1 for Player vs Player, 2 for Player vs Computer: 1\n"
     ]
    }
   ],
   "source": [
    "import random\n",
    "\n",
    "def print_board(board):\n",
    "    for row in board:\n",
    "        print(\" | \".join(row))\n",
    "        print(\"-\" * 9)\n",
    "\n",
    "def check_winner(board):\n",
    "    for row in board:\n",
    "        if row[0] == row[1] == row[2] and row[0] != \" \":\n",
    "            return row[0]\n",
    "\n",
    "    for col in range(3):\n",
    "        if board[0][col] == board[1][col] == board[2][col] and board[0][col] != \" \":\n",
    "            return board[0][col]\n",
    "\n",
    "    if board[0][0] == board[1][1] == board[2][2] and board[0][0] != \" \":\n",
    "        return board[0][0]\n",
    "\n",
    "    if board[0][2] == board[1][1] == board[2][0] and board[0][2] != \" \":\n",
    "        return board[0][2]\n",
    "\n",
    "    return None\n",
    "\n",
    "def is_full(board):\n",
    "    return all(cell != \" \" for row in board for cell in row)\n",
    "\n",
    "def player_move(board, player, player_name):\n",
    "    while True:\n",
    "        try:\n",
    "            move = int(input(f\"{player_name} ({player}), enter your move (1-9): \")) - 1\n",
    "            row, col = divmod(move, 3)\n",
    "            if board[row][col] == \" \":\n",
    "                board[row][col] = player\n",
    "                break\n",
    "            else:\n",
    "                print(\"Cell is already occupied. Try again.\")\n",
    "        except (ValueError, IndexError):\n",
    "            print(\"Invalid input. Enter a number between 1 and 9.\")\n",
    "\n",
    "def computer_move(board):\n",
    "    empty_cells = [(row, col) for row in range(3) for col in range(3) if board[row][col] == \" \"]\n",
    "    move = random.choice(empty_cells)\n",
    "    board[move[0]][move[1]] = \"O\"\n",
    "\n",
    "def main():\n",
    "    print(\"Welcome to Tic Tac Toe!\")\n",
    "    mode = input(\"Choose mode: 1 for Player vs Player, 2 for Player vs Computer: \")\n",
    "\n",
    "    player1_name = input(\"Enter name for Player 1: \")\n",
    "    player2_name = \"Computer\" if mode == \"2\" else input(\"Enter name for Player 2: \")\n",
    "\n",
    "    board = [[\" \" for _ in range(3)] for _ in range(3)]\n",
    "    print_board(board)\n",
    "\n",
    "    current_player = \"X\"\n",
    "\n",
    "    while True:\n",
    "        if mode == \"1\" or (mode == \"2\" and current_player == \"X\"):\n",
    "            player_move(board, current_player, player1_name if current_player == \"X\" else player2_name)\n",
    "        elif mode == \"2\" and current_player == \"O\":\n",
    "            print(\"Computer's turn...\")\n",
    "            computer_move(board)\n",
    "\n",
    "        print_board(board)\n",
    "        winner = check_winner(board)\n",
    "\n",
    "        if winner:\n",
    "            winner_name = player1_name if winner == \"X\" else player2_name\n",
    "            print(f\"{winner_name} ({winner}) wins the game!\")\n",
    "            break\n",
    "        elif is_full(board):\n",
    "            print(\"It's a draw!\")\n",
    "            break\n",
    "\n",
    "        current_player = \"O\" if current_player == \"X\" else \"X\"\n",
    "\n",
    "if __name__ == \"__main__\":\n",
    "    main()\n"
   ]
  }
 ],
 "metadata": {
  "kernelspec": {
   "display_name": "Python 3 (ipykernel)",
   "language": "python",
   "name": "python3"
  },
  "language_info": {
   "codemirror_mode": {
    "name": "ipython",
    "version": 3
   },
   "file_extension": ".py",
   "mimetype": "text/x-python",
   "name": "python",
   "nbconvert_exporter": "python",
   "pygments_lexer": "ipython3",
   "version": "3.11.5"
  }
 },
 "nbformat": 4,
 "nbformat_minor": 5
}
